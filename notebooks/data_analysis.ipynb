{
 "cells": [
  {
   "cell_type": "markdown",
   "metadata": {},
   "source": [
    " # data analysis workflow (Task 1)"
   ]
  },
  {
   "cell_type": "markdown",
   "metadata": {},
   "source": [
    "1) Defining the Data Analysis Workflow"
   ]
  },
  {
   "cell_type": "code",
   "execution_count": 12,
   "metadata": {},
   "outputs": [],
   "source": [
    "# Cell 1: Import necessary libraries\n",
    "import pandas as pd\n",
    "import numpy as np\n",
    "import matplotlib.pyplot as plt\n",
    "import seaborn as sns\n",
    "from IPython.display import display, Markdown, HTML"
   ]
  },
  {
   "cell_type": "code",
   "execution_count": 13,
   "metadata": {},
   "outputs": [],
   "source": [
    "# Cell 2: Load and examine the data with proper date parsing\n",
    "def load_and_parse_data():\n",
    "    # Read the CSV file\n",
    "    df = pd.read_csv(\"E:/KAIM 2/KAIM 2 Week 10/Week10/data/BrentOilPrices.csv\")\n",
    "    \n",
    "    # Convert dates using a more flexible approach\n",
    "    try:\n",
    "        # First attempt with the original format\n",
    "        df['Date'] = pd.to_datetime(df['Date'], format='%d-%b-%y')\n",
    "    except ValueError:\n",
    "        try:\n",
    "            # Second attempt with mixed format\n",
    "            df['Date'] = pd.to_datetime(df['Date'], format='mixed', dayfirst=True)\n",
    "        except ValueError:\n",
    "            # If both fail, try to identify different date formats in the data\n",
    "            print(\"Identifying date formats in the data...\")\n",
    "            \n",
    "            def parse_date(date_str):\n",
    "                formats = ['%d-%b-%y', '%b %d, %Y', '%Y-%m-%d']\n",
    "                for fmt in formats:\n",
    "                    try:\n",
    "                        return pd.to_datetime(date_str, format=fmt)\n",
    "                    except ValueError:\n",
    "                        continue\n",
    "                return pd.NaT\n",
    "\n",
    "            df['Date'] = df['Date'].apply(parse_date)\n",
    "            \n",
    "            # Check for any remaining unparsed dates\n",
    "            if df['Date'].isna().any():\n",
    "                print(f\"Warning: {df['Date'].isna().sum()} dates could not be parsed\")\n",
    "                print(\"Sample of unparsed dates:\")\n",
    "                print(df[df['Date'].isna()]['Date'].head())\n",
    "    \n",
    "    # Sort the dataframe by date\n",
    "    df = df.sort_values('Date')\n",
    "    \n",
    "    return df\n",
    "\n",
    "# Load the data\n",
    "df = load_and_parse_data()"
   ]
  },
  {
   "cell_type": "code",
   "execution_count": 14,
   "metadata": {},
   "outputs": [
    {
     "name": "stdout",
     "output_type": "stream",
     "text": [
      "Dataset Overview:\n",
      "--------------------------------------------------\n",
      "\n",
      "Shape of dataset: (9011, 2)\n",
      "\n",
      "Date range: From 1987-05-20 00:00:00 to 2022-11-14 00:00:00\n",
      "\n",
      "First few rows:\n"
     ]
    },
    {
     "data": {
      "text/html": [
       "<div>\n",
       "<style scoped>\n",
       "    .dataframe tbody tr th:only-of-type {\n",
       "        vertical-align: middle;\n",
       "    }\n",
       "\n",
       "    .dataframe tbody tr th {\n",
       "        vertical-align: top;\n",
       "    }\n",
       "\n",
       "    .dataframe thead th {\n",
       "        text-align: right;\n",
       "    }\n",
       "</style>\n",
       "<table border=\"1\" class=\"dataframe\">\n",
       "  <thead>\n",
       "    <tr style=\"text-align: right;\">\n",
       "      <th></th>\n",
       "      <th>Date</th>\n",
       "      <th>Price</th>\n",
       "    </tr>\n",
       "  </thead>\n",
       "  <tbody>\n",
       "    <tr>\n",
       "      <th>0</th>\n",
       "      <td>1987-05-20</td>\n",
       "      <td>18.63</td>\n",
       "    </tr>\n",
       "    <tr>\n",
       "      <th>1</th>\n",
       "      <td>1987-05-21</td>\n",
       "      <td>18.45</td>\n",
       "    </tr>\n",
       "    <tr>\n",
       "      <th>2</th>\n",
       "      <td>1987-05-22</td>\n",
       "      <td>18.55</td>\n",
       "    </tr>\n",
       "    <tr>\n",
       "      <th>3</th>\n",
       "      <td>1987-05-25</td>\n",
       "      <td>18.60</td>\n",
       "    </tr>\n",
       "    <tr>\n",
       "      <th>4</th>\n",
       "      <td>1987-05-26</td>\n",
       "      <td>18.63</td>\n",
       "    </tr>\n",
       "  </tbody>\n",
       "</table>\n",
       "</div>"
      ],
      "text/plain": [
       "        Date  Price\n",
       "0 1987-05-20  18.63\n",
       "1 1987-05-21  18.45\n",
       "2 1987-05-22  18.55\n",
       "3 1987-05-25  18.60\n",
       "4 1987-05-26  18.63"
      ]
     },
     "metadata": {},
     "output_type": "display_data"
    },
    {
     "name": "stdout",
     "output_type": "stream",
     "text": [
      "\n",
      "Last few rows:\n"
     ]
    },
    {
     "data": {
      "text/html": [
       "<div>\n",
       "<style scoped>\n",
       "    .dataframe tbody tr th:only-of-type {\n",
       "        vertical-align: middle;\n",
       "    }\n",
       "\n",
       "    .dataframe tbody tr th {\n",
       "        vertical-align: top;\n",
       "    }\n",
       "\n",
       "    .dataframe thead th {\n",
       "        text-align: right;\n",
       "    }\n",
       "</style>\n",
       "<table border=\"1\" class=\"dataframe\">\n",
       "  <thead>\n",
       "    <tr style=\"text-align: right;\">\n",
       "      <th></th>\n",
       "      <th>Date</th>\n",
       "      <th>Price</th>\n",
       "    </tr>\n",
       "  </thead>\n",
       "  <tbody>\n",
       "    <tr>\n",
       "      <th>9006</th>\n",
       "      <td>2022-11-08</td>\n",
       "      <td>96.85</td>\n",
       "    </tr>\n",
       "    <tr>\n",
       "      <th>9007</th>\n",
       "      <td>2022-11-09</td>\n",
       "      <td>93.05</td>\n",
       "    </tr>\n",
       "    <tr>\n",
       "      <th>9008</th>\n",
       "      <td>2022-11-10</td>\n",
       "      <td>94.25</td>\n",
       "    </tr>\n",
       "    <tr>\n",
       "      <th>9009</th>\n",
       "      <td>2022-11-11</td>\n",
       "      <td>96.37</td>\n",
       "    </tr>\n",
       "    <tr>\n",
       "      <th>9010</th>\n",
       "      <td>2022-11-14</td>\n",
       "      <td>93.59</td>\n",
       "    </tr>\n",
       "  </tbody>\n",
       "</table>\n",
       "</div>"
      ],
      "text/plain": [
       "           Date  Price\n",
       "9006 2022-11-08  96.85\n",
       "9007 2022-11-09  93.05\n",
       "9008 2022-11-10  94.25\n",
       "9009 2022-11-11  96.37\n",
       "9010 2022-11-14  93.59"
      ]
     },
     "metadata": {},
     "output_type": "display_data"
    },
    {
     "name": "stdout",
     "output_type": "stream",
     "text": [
      "\n",
      "Data Info:\n",
      "<class 'pandas.core.frame.DataFrame'>\n",
      "RangeIndex: 9011 entries, 0 to 9010\n",
      "Data columns (total 2 columns):\n",
      " #   Column  Non-Null Count  Dtype         \n",
      "---  ------  --------------  -----         \n",
      " 0   Date    9011 non-null   datetime64[ns]\n",
      " 1   Price   9011 non-null   float64       \n",
      "dtypes: datetime64[ns](1), float64(1)\n",
      "memory usage: 140.9 KB\n"
     ]
    },
    {
     "data": {
      "text/plain": [
       "None"
      ]
     },
     "metadata": {},
     "output_type": "display_data"
    },
    {
     "name": "stdout",
     "output_type": "stream",
     "text": [
      "\n",
      "Descriptive Statistics:\n"
     ]
    },
    {
     "data": {
      "text/html": [
       "<div>\n",
       "<style scoped>\n",
       "    .dataframe tbody tr th:only-of-type {\n",
       "        vertical-align: middle;\n",
       "    }\n",
       "\n",
       "    .dataframe tbody tr th {\n",
       "        vertical-align: top;\n",
       "    }\n",
       "\n",
       "    .dataframe thead th {\n",
       "        text-align: right;\n",
       "    }\n",
       "</style>\n",
       "<table border=\"1\" class=\"dataframe\">\n",
       "  <thead>\n",
       "    <tr style=\"text-align: right;\">\n",
       "      <th></th>\n",
       "      <th>Date</th>\n",
       "      <th>Price</th>\n",
       "    </tr>\n",
       "  </thead>\n",
       "  <tbody>\n",
       "    <tr>\n",
       "      <th>count</th>\n",
       "      <td>9011</td>\n",
       "      <td>9011.000000</td>\n",
       "    </tr>\n",
       "    <tr>\n",
       "      <th>mean</th>\n",
       "      <td>2005-02-10 23:46:53.760958720</td>\n",
       "      <td>48.420782</td>\n",
       "    </tr>\n",
       "    <tr>\n",
       "      <th>min</th>\n",
       "      <td>1987-05-20 00:00:00</td>\n",
       "      <td>9.100000</td>\n",
       "    </tr>\n",
       "    <tr>\n",
       "      <th>25%</th>\n",
       "      <td>1996-03-20 12:00:00</td>\n",
       "      <td>19.050000</td>\n",
       "    </tr>\n",
       "    <tr>\n",
       "      <th>50%</th>\n",
       "      <td>2005-02-02 00:00:00</td>\n",
       "      <td>38.570000</td>\n",
       "    </tr>\n",
       "    <tr>\n",
       "      <th>75%</th>\n",
       "      <td>2014-01-09 12:00:00</td>\n",
       "      <td>70.090000</td>\n",
       "    </tr>\n",
       "    <tr>\n",
       "      <th>max</th>\n",
       "      <td>2022-11-14 00:00:00</td>\n",
       "      <td>143.950000</td>\n",
       "    </tr>\n",
       "    <tr>\n",
       "      <th>std</th>\n",
       "      <td>NaN</td>\n",
       "      <td>32.860110</td>\n",
       "    </tr>\n",
       "  </tbody>\n",
       "</table>\n",
       "</div>"
      ],
      "text/plain": [
       "                                Date        Price\n",
       "count                           9011  9011.000000\n",
       "mean   2005-02-10 23:46:53.760958720    48.420782\n",
       "min              1987-05-20 00:00:00     9.100000\n",
       "25%              1996-03-20 12:00:00    19.050000\n",
       "50%              2005-02-02 00:00:00    38.570000\n",
       "75%              2014-01-09 12:00:00    70.090000\n",
       "max              2022-11-14 00:00:00   143.950000\n",
       "std                              NaN    32.860110"
      ]
     },
     "metadata": {},
     "output_type": "display_data"
    }
   ],
   "source": [
    "# Cell 3: Display basic information about the dataset\n",
    "def display_data_info():\n",
    "    print(\"Dataset Overview:\")\n",
    "    print(\"-\" * 50)\n",
    "    print(\"\\nShape of dataset:\", df.shape)\n",
    "    print(\"\\nDate range:\", f\"From {df['Date'].min()} to {df['Date'].max()}\")\n",
    "    print(\"\\nFirst few rows:\")\n",
    "    display(df.head())\n",
    "    print(\"\\nLast few rows:\")\n",
    "    display(df.tail())\n",
    "    print(\"\\nData Info:\")\n",
    "    display(df.info())\n",
    "    print(\"\\nDescriptive Statistics:\")\n",
    "    display(df.describe())\n",
    "    \n",
    "    # Check for missing values\n",
    "    missing_values = df.isnull().sum()\n",
    "    if missing_values.any():\n",
    "        print(\"\\nMissing Values:\")\n",
    "        print(missing_values[missing_values > 0])\n",
    "\n",
    "display_data_info()"
   ]
  },
  {
   "cell_type": "code",
   "execution_count": 15,
   "metadata": {},
   "outputs": [
    {
     "data": {
      "text/markdown": [
       "### 1. Data Preparation"
      ],
      "text/plain": [
       "<IPython.core.display.Markdown object>"
      ]
     },
     "metadata": {},
     "output_type": "display_data"
    },
    {
     "data": {
      "text/html": [
       "<div>\n",
       "<style scoped>\n",
       "    .dataframe tbody tr th:only-of-type {\n",
       "        vertical-align: middle;\n",
       "    }\n",
       "\n",
       "    .dataframe tbody tr th {\n",
       "        vertical-align: top;\n",
       "    }\n",
       "\n",
       "    .dataframe thead th {\n",
       "        text-align: right;\n",
       "    }\n",
       "</style>\n",
       "<table border=\"1\" class=\"dataframe\">\n",
       "  <thead>\n",
       "    <tr style=\"text-align: right;\">\n",
       "      <th></th>\n",
       "      <th>Steps</th>\n",
       "      <th>Tools</th>\n",
       "      <th>Outputs</th>\n",
       "    </tr>\n",
       "  </thead>\n",
       "  <tbody>\n",
       "    <tr>\n",
       "      <th>0</th>\n",
       "      <td>Load raw data from CSV file</td>\n",
       "      <td>[pandas, numpy]</td>\n",
       "      <td>[Clean dataset ready for analysis]</td>\n",
       "    </tr>\n",
       "    <tr>\n",
       "      <th>1</th>\n",
       "      <td>Convert dates to datetime format</td>\n",
       "      <td>[pandas, numpy]</td>\n",
       "      <td>[Clean dataset ready for analysis]</td>\n",
       "    </tr>\n",
       "    <tr>\n",
       "      <th>2</th>\n",
       "      <td>Check for missing values</td>\n",
       "      <td>[pandas, numpy]</td>\n",
       "      <td>[Clean dataset ready for analysis]</td>\n",
       "    </tr>\n",
       "    <tr>\n",
       "      <th>3</th>\n",
       "      <td>Handle any data inconsistencies</td>\n",
       "      <td>[pandas, numpy]</td>\n",
       "      <td>[Clean dataset ready for analysis]</td>\n",
       "    </tr>\n",
       "    <tr>\n",
       "      <th>4</th>\n",
       "      <td>Validate data types and formats</td>\n",
       "      <td>[pandas, numpy]</td>\n",
       "      <td>[Clean dataset ready for analysis]</td>\n",
       "    </tr>\n",
       "  </tbody>\n",
       "</table>\n",
       "</div>"
      ],
      "text/plain": [
       "                              Steps            Tools  \\\n",
       "0       Load raw data from CSV file  [pandas, numpy]   \n",
       "1  Convert dates to datetime format  [pandas, numpy]   \n",
       "2          Check for missing values  [pandas, numpy]   \n",
       "3   Handle any data inconsistencies  [pandas, numpy]   \n",
       "4   Validate data types and formats  [pandas, numpy]   \n",
       "\n",
       "                              Outputs  \n",
       "0  [Clean dataset ready for analysis]  \n",
       "1  [Clean dataset ready for analysis]  \n",
       "2  [Clean dataset ready for analysis]  \n",
       "3  [Clean dataset ready for analysis]  \n",
       "4  [Clean dataset ready for analysis]  "
      ]
     },
     "metadata": {},
     "output_type": "display_data"
    },
    {
     "name": "stdout",
     "output_type": "stream",
     "text": [
      "\n",
      "\n"
     ]
    },
    {
     "data": {
      "text/markdown": [
       "### 2. Exploratory Data Analysis"
      ],
      "text/plain": [
       "<IPython.core.display.Markdown object>"
      ]
     },
     "metadata": {},
     "output_type": "display_data"
    },
    {
     "data": {
      "text/html": [
       "<div>\n",
       "<style scoped>\n",
       "    .dataframe tbody tr th:only-of-type {\n",
       "        vertical-align: middle;\n",
       "    }\n",
       "\n",
       "    .dataframe tbody tr th {\n",
       "        vertical-align: top;\n",
       "    }\n",
       "\n",
       "    .dataframe thead th {\n",
       "        text-align: right;\n",
       "    }\n",
       "</style>\n",
       "<table border=\"1\" class=\"dataframe\">\n",
       "  <thead>\n",
       "    <tr style=\"text-align: right;\">\n",
       "      <th></th>\n",
       "      <th>Steps</th>\n",
       "      <th>Tools</th>\n",
       "      <th>Outputs</th>\n",
       "    </tr>\n",
       "  </thead>\n",
       "  <tbody>\n",
       "    <tr>\n",
       "      <th>0</th>\n",
       "      <td>Analyze temporal patterns</td>\n",
       "      <td>[matplotlib, seaborn]</td>\n",
       "      <td>[Visual insights, Statistical summaries]</td>\n",
       "    </tr>\n",
       "    <tr>\n",
       "      <th>1</th>\n",
       "      <td>Calculate basic statistics</td>\n",
       "      <td>[matplotlib, seaborn]</td>\n",
       "      <td>[Visual insights, Statistical summaries]</td>\n",
       "    </tr>\n",
       "    <tr>\n",
       "      <th>2</th>\n",
       "      <td>Identify trends and seasonality</td>\n",
       "      <td>[matplotlib, seaborn]</td>\n",
       "      <td>[Visual insights, Statistical summaries]</td>\n",
       "    </tr>\n",
       "    <tr>\n",
       "      <th>3</th>\n",
       "      <td>Generate visualizations</td>\n",
       "      <td>[matplotlib, seaborn]</td>\n",
       "      <td>[Visual insights, Statistical summaries]</td>\n",
       "    </tr>\n",
       "    <tr>\n",
       "      <th>4</th>\n",
       "      <td>Detect anomalies</td>\n",
       "      <td>[matplotlib, seaborn]</td>\n",
       "      <td>[Visual insights, Statistical summaries]</td>\n",
       "    </tr>\n",
       "  </tbody>\n",
       "</table>\n",
       "</div>"
      ],
      "text/plain": [
       "                             Steps                  Tools  \\\n",
       "0        Analyze temporal patterns  [matplotlib, seaborn]   \n",
       "1       Calculate basic statistics  [matplotlib, seaborn]   \n",
       "2  Identify trends and seasonality  [matplotlib, seaborn]   \n",
       "3          Generate visualizations  [matplotlib, seaborn]   \n",
       "4                 Detect anomalies  [matplotlib, seaborn]   \n",
       "\n",
       "                                    Outputs  \n",
       "0  [Visual insights, Statistical summaries]  \n",
       "1  [Visual insights, Statistical summaries]  \n",
       "2  [Visual insights, Statistical summaries]  \n",
       "3  [Visual insights, Statistical summaries]  \n",
       "4  [Visual insights, Statistical summaries]  "
      ]
     },
     "metadata": {},
     "output_type": "display_data"
    },
    {
     "name": "stdout",
     "output_type": "stream",
     "text": [
      "\n",
      "\n"
     ]
    },
    {
     "data": {
      "text/markdown": [
       "### 3. Time Series Analysis"
      ],
      "text/plain": [
       "<IPython.core.display.Markdown object>"
      ]
     },
     "metadata": {},
     "output_type": "display_data"
    },
    {
     "data": {
      "text/html": [
       "<div>\n",
       "<style scoped>\n",
       "    .dataframe tbody tr th:only-of-type {\n",
       "        vertical-align: middle;\n",
       "    }\n",
       "\n",
       "    .dataframe tbody tr th {\n",
       "        vertical-align: top;\n",
       "    }\n",
       "\n",
       "    .dataframe thead th {\n",
       "        text-align: right;\n",
       "    }\n",
       "</style>\n",
       "<table border=\"1\" class=\"dataframe\">\n",
       "  <thead>\n",
       "    <tr style=\"text-align: right;\">\n",
       "      <th></th>\n",
       "      <th>Steps</th>\n",
       "      <th>Tools</th>\n",
       "      <th>Outputs</th>\n",
       "    </tr>\n",
       "  </thead>\n",
       "  <tbody>\n",
       "    <tr>\n",
       "      <th>0</th>\n",
       "      <td>Decompose time series</td>\n",
       "      <td>[statsmodels, scipy]</td>\n",
       "      <td>[Time series components, Pattern analysis]</td>\n",
       "    </tr>\n",
       "    <tr>\n",
       "      <th>1</th>\n",
       "      <td>Analyze trends</td>\n",
       "      <td>[statsmodels, scipy]</td>\n",
       "      <td>[Time series components, Pattern analysis]</td>\n",
       "    </tr>\n",
       "    <tr>\n",
       "      <th>2</th>\n",
       "      <td>Study seasonality patterns</td>\n",
       "      <td>[statsmodels, scipy]</td>\n",
       "      <td>[Time series components, Pattern analysis]</td>\n",
       "    </tr>\n",
       "    <tr>\n",
       "      <th>3</th>\n",
       "      <td>Measure volatility</td>\n",
       "      <td>[statsmodels, scipy]</td>\n",
       "      <td>[Time series components, Pattern analysis]</td>\n",
       "    </tr>\n",
       "    <tr>\n",
       "      <th>4</th>\n",
       "      <td>Identify cyclic patterns</td>\n",
       "      <td>[statsmodels, scipy]</td>\n",
       "      <td>[Time series components, Pattern analysis]</td>\n",
       "    </tr>\n",
       "  </tbody>\n",
       "</table>\n",
       "</div>"
      ],
      "text/plain": [
       "                        Steps                 Tools  \\\n",
       "0       Decompose time series  [statsmodels, scipy]   \n",
       "1              Analyze trends  [statsmodels, scipy]   \n",
       "2  Study seasonality patterns  [statsmodels, scipy]   \n",
       "3          Measure volatility  [statsmodels, scipy]   \n",
       "4    Identify cyclic patterns  [statsmodels, scipy]   \n",
       "\n",
       "                                      Outputs  \n",
       "0  [Time series components, Pattern analysis]  \n",
       "1  [Time series components, Pattern analysis]  \n",
       "2  [Time series components, Pattern analysis]  \n",
       "3  [Time series components, Pattern analysis]  \n",
       "4  [Time series components, Pattern analysis]  "
      ]
     },
     "metadata": {},
     "output_type": "display_data"
    },
    {
     "name": "stdout",
     "output_type": "stream",
     "text": [
      "\n",
      "\n"
     ]
    }
   ],
   "source": [
    "# Cell 4: Define and display the data analysis workflow\n",
    "def create_workflow_documentation():\n",
    "    workflow = {\n",
    "        \"1. Data Preparation\": {\n",
    "            \"steps\": [\n",
    "                \"Load raw data from CSV file\",\n",
    "                \"Convert dates to datetime format\",\n",
    "                \"Check for missing values\",\n",
    "                \"Handle any data inconsistencies\",\n",
    "                \"Validate data types and formats\"\n",
    "            ],\n",
    "            \"tools\": [\"pandas\", \"numpy\"],\n",
    "            \"outputs\": [\"Clean dataset ready for analysis\"]\n",
    "        },\n",
    "        \"2. Exploratory Data Analysis\": {\n",
    "            \"steps\": [\n",
    "                \"Analyze temporal patterns\",\n",
    "                \"Calculate basic statistics\",\n",
    "                \"Identify trends and seasonality\",\n",
    "                \"Generate visualizations\",\n",
    "                \"Detect anomalies\"\n",
    "            ],\n",
    "            \"tools\": [\"matplotlib\", \"seaborn\"],\n",
    "            \"outputs\": [\"Visual insights\", \"Statistical summaries\"]\n",
    "        },\n",
    "        \"3. Time Series Analysis\": {\n",
    "            \"steps\": [\n",
    "                \"Decompose time series\",\n",
    "                \"Analyze trends\",\n",
    "                \"Study seasonality patterns\",\n",
    "                \"Measure volatility\",\n",
    "                \"Identify cyclic patterns\"\n",
    "            ],\n",
    "            \"tools\": [\"statsmodels\", \"scipy\"],\n",
    "            \"outputs\": [\"Time series components\", \"Pattern analysis\"]\n",
    "        }\n",
    "    }\n",
    "    \n",
    "    # Display workflow as HTML table\n",
    "    for phase, details in workflow.items():\n",
    "        display(Markdown(f\"### {phase}\"))\n",
    "        steps_df = pd.DataFrame({\n",
    "            'Steps': details['steps'],\n",
    "            'Tools': [details['tools']] * len(details['steps']),\n",
    "            'Outputs': [details['outputs']] * len(details['steps'])\n",
    "        })\n",
    "        display(steps_df)\n",
    "        print(\"\\n\")\n",
    "\n",
    "create_workflow_documentation()"
   ]
  },
  {
   "cell_type": "code",
   "execution_count": 16,
   "metadata": {},
   "outputs": [
    {
     "data": {
      "text/markdown": [
       "## Data Characteristics"
      ],
      "text/plain": [
       "<IPython.core.display.Markdown object>"
      ]
     },
     "metadata": {},
     "output_type": "display_data"
    },
    {
     "data": {
      "text/markdown": [
       "**Data Source:** Brent Oil Price historical data"
      ],
      "text/plain": [
       "<IPython.core.display.Markdown object>"
      ]
     },
     "metadata": {},
     "output_type": "display_data"
    },
    {
     "data": {
      "text/markdown": [
       "**Frequency:** Daily"
      ],
      "text/plain": [
       "<IPython.core.display.Markdown object>"
      ]
     },
     "metadata": {},
     "output_type": "display_data"
    },
    {
     "data": {
      "text/markdown": [
       "**Time Period:** 1987-05-20 00:00:00 to 2022-11-14 00:00:00"
      ],
      "text/plain": [
       "<IPython.core.display.Markdown object>"
      ]
     },
     "metadata": {},
     "output_type": "display_data"
    },
    {
     "data": {
      "text/markdown": [
       "**Trading Days:** 9011"
      ],
      "text/plain": [
       "<IPython.core.display.Markdown object>"
      ]
     },
     "metadata": {},
     "output_type": "display_data"
    },
    {
     "data": {
      "text/markdown": [
       "**Price Range:** $9.10 to $143.95"
      ],
      "text/plain": [
       "<IPython.core.display.Markdown object>"
      ]
     },
     "metadata": {},
     "output_type": "display_data"
    },
    {
     "data": {
      "text/markdown": [
       "**Collection Method:** Market close prices"
      ],
      "text/plain": [
       "<IPython.core.display.Markdown object>"
      ]
     },
     "metadata": {},
     "output_type": "display_data"
    },
    {
     "data": {
      "text/markdown": [
       "**Data Provider:** Financial markets data feed"
      ],
      "text/plain": [
       "<IPython.core.display.Markdown object>"
      ]
     },
     "metadata": {},
     "output_type": "display_data"
    }
   ],
   "source": [
    "# Cell 5: Document data generation and sampling\n",
    "def document_data_characteristics():\n",
    "    data_characteristics = {\n",
    "        \"Data Source\": \"Brent Oil Price historical data\",\n",
    "        \"Frequency\": \"Daily\",\n",
    "        \"Time Period\": f\"{df['Date'].min()} to {df['Date'].max()}\",\n",
    "        \"Trading Days\": len(df),\n",
    "        \"Price Range\": f\"${df['Price'].min():.2f} to ${df['Price'].max():.2f}\",\n",
    "        \"Collection Method\": \"Market close prices\",\n",
    "        \"Data Provider\": \"Financial markets data feed\"\n",
    "    }\n",
    "    \n",
    "    display(Markdown(\"## Data Characteristics\"))\n",
    "    for key, value in data_characteristics.items():\n",
    "        display(Markdown(f\"**{key}:** {value}\"))\n",
    "\n",
    "document_data_characteristics()"
   ]
  },
  {
   "cell_type": "code",
   "execution_count": 17,
   "metadata": {},
   "outputs": [
    {
     "data": {
      "text/markdown": [
       "## Model Documentation"
      ],
      "text/plain": [
       "<IPython.core.display.Markdown object>"
      ]
     },
     "metadata": {},
     "output_type": "display_data"
    },
    {
     "data": {
      "text/markdown": [
       "### Model Inputs"
      ],
      "text/plain": [
       "<IPython.core.display.Markdown object>"
      ]
     },
     "metadata": {},
     "output_type": "display_data"
    },
    {
     "data": {
      "text/markdown": [
       "- **Primary:** Daily closing prices"
      ],
      "text/plain": [
       "<IPython.core.display.Markdown object>"
      ]
     },
     "metadata": {},
     "output_type": "display_data"
    },
    {
     "data": {
      "text/markdown": [
       "- **Derived:** Rolling averages, Price changes, Volatility measures"
      ],
      "text/plain": [
       "<IPython.core.display.Markdown object>"
      ]
     },
     "metadata": {},
     "output_type": "display_data"
    },
    {
     "data": {
      "text/markdown": [
       "### Parameters"
      ],
      "text/plain": [
       "<IPython.core.display.Markdown object>"
      ]
     },
     "metadata": {},
     "output_type": "display_data"
    },
    {
     "data": {
      "text/markdown": [
       "- **Time window:** Daily"
      ],
      "text/plain": [
       "<IPython.core.display.Markdown object>"
      ]
     },
     "metadata": {},
     "output_type": "display_data"
    },
    {
     "data": {
      "text/markdown": [
       "- **Analysis period:** Complete dataset"
      ],
      "text/plain": [
       "<IPython.core.display.Markdown object>"
      ]
     },
     "metadata": {},
     "output_type": "display_data"
    },
    {
     "data": {
      "text/markdown": [
       "- **Price unit:** USD per barrel"
      ],
      "text/plain": [
       "<IPython.core.display.Markdown object>"
      ]
     },
     "metadata": {},
     "output_type": "display_data"
    },
    {
     "data": {
      "text/markdown": [
       "### Outputs"
      ],
      "text/plain": [
       "<IPython.core.display.Markdown object>"
      ]
     },
     "metadata": {},
     "output_type": "display_data"
    },
    {
     "data": {
      "text/markdown": [
       "- **Primary:** Trend analysis, Seasonal patterns, Price forecasts"
      ],
      "text/plain": [
       "<IPython.core.display.Markdown object>"
      ]
     },
     "metadata": {},
     "output_type": "display_data"
    },
    {
     "data": {
      "text/markdown": [
       "- **Secondary:** Volatility measures, Risk metrics, Market indicators"
      ],
      "text/plain": [
       "<IPython.core.display.Markdown object>"
      ]
     },
     "metadata": {},
     "output_type": "display_data"
    }
   ],
   "source": [
    "# Cell 6: Define model parameters and assumptions\n",
    "def document_model_parameters():\n",
    "    model_documentation = {\n",
    "        \"Model Inputs\": {\n",
    "            \"Primary\": [\"Daily closing prices\"],\n",
    "            \"Derived\": [\"Rolling averages\", \"Price changes\", \"Volatility measures\"]\n",
    "        },\n",
    "        \"Parameters\": {\n",
    "            \"Time window\": \"Daily\",\n",
    "            \"Analysis period\": \"Complete dataset\",\n",
    "            \"Price unit\": \"USD per barrel\"\n",
    "        },\n",
    "        \"Outputs\": {\n",
    "            \"Primary\": [\"Trend analysis\", \"Seasonal patterns\", \"Price forecasts\"],\n",
    "            \"Secondary\": [\"Volatility measures\", \"Risk metrics\", \"Market indicators\"]\n",
    "        }\n",
    "    }\n",
    "    \n",
    "    display(Markdown(\"## Model Documentation\"))\n",
    "    for category, details in model_documentation.items():\n",
    "        display(Markdown(f\"### {category}\"))\n",
    "        for subcategory, items in details.items():\n",
    "            if isinstance(items, list):\n",
    "                items_str = \", \".join(items)\n",
    "                display(Markdown(f\"- **{subcategory}:** {items_str}\"))\n",
    "            else:\n",
    "                display(Markdown(f\"- **{subcategory}:** {items}\"))\n",
    "\n",
    "document_model_parameters()"
   ]
  },
  {
   "cell_type": "code",
   "execution_count": 18,
   "metadata": {},
   "outputs": [
    {
     "data": {
      "text/markdown": [
       "## Assumptions and Limitations"
      ],
      "text/plain": [
       "<IPython.core.display.Markdown object>"
      ]
     },
     "metadata": {},
     "output_type": "display_data"
    },
    {
     "data": {
      "text/markdown": [
       "### Assumptions"
      ],
      "text/plain": [
       "<IPython.core.display.Markdown object>"
      ]
     },
     "metadata": {},
     "output_type": "display_data"
    },
    {
     "data": {
      "text/markdown": [
       "- Price data represents actual market transactions"
      ],
      "text/plain": [
       "<IPython.core.display.Markdown object>"
      ]
     },
     "metadata": {},
     "output_type": "display_data"
    },
    {
     "data": {
      "text/markdown": [
       "- Daily frequency captures relevant market movements"
      ],
      "text/plain": [
       "<IPython.core.display.Markdown object>"
      ]
     },
     "metadata": {},
     "output_type": "display_data"
    },
    {
     "data": {
      "text/markdown": [
       "- Missing values (if any) are random and non-systematic"
      ],
      "text/plain": [
       "<IPython.core.display.Markdown object>"
      ]
     },
     "metadata": {},
     "output_type": "display_data"
    },
    {
     "data": {
      "text/markdown": [
       "- Market efficiency in price formation"
      ],
      "text/plain": [
       "<IPython.core.display.Markdown object>"
      ]
     },
     "metadata": {},
     "output_type": "display_data"
    },
    {
     "data": {
      "text/markdown": [
       "- Temporal consistency in data collection methodology"
      ],
      "text/plain": [
       "<IPython.core.display.Markdown object>"
      ]
     },
     "metadata": {},
     "output_type": "display_data"
    },
    {
     "data": {
      "text/markdown": [
       "\n",
       "### Limitations"
      ],
      "text/plain": [
       "<IPython.core.display.Markdown object>"
      ]
     },
     "metadata": {},
     "output_type": "display_data"
    },
    {
     "data": {
      "text/markdown": [
       "- Daily data may miss intraday price movements"
      ],
      "text/plain": [
       "<IPython.core.display.Markdown object>"
      ]
     },
     "metadata": {},
     "output_type": "display_data"
    },
    {
     "data": {
      "text/markdown": [
       "- Historical patterns may not predict future behavior"
      ],
      "text/plain": [
       "<IPython.core.display.Markdown object>"
      ]
     },
     "metadata": {},
     "output_type": "display_data"
    },
    {
     "data": {
      "text/markdown": [
       "- External factors may not be captured in price data"
      ],
      "text/plain": [
       "<IPython.core.display.Markdown object>"
      ]
     },
     "metadata": {},
     "output_type": "display_data"
    },
    {
     "data": {
      "text/markdown": [
       "- Market structural changes may affect analysis validity"
      ],
      "text/plain": [
       "<IPython.core.display.Markdown object>"
      ]
     },
     "metadata": {},
     "output_type": "display_data"
    },
    {
     "data": {
      "text/markdown": [
       "- Limited ability to capture market sentiment"
      ],
      "text/plain": [
       "<IPython.core.display.Markdown object>"
      ]
     },
     "metadata": {},
     "output_type": "display_data"
    }
   ],
   "source": [
    "# Cell 7: Document assumptions and limitations\n",
    "def document_assumptions_limitations():\n",
    "    assumptions = [\n",
    "        \"Price data represents actual market transactions\",\n",
    "        \"Daily frequency captures relevant market movements\",\n",
    "        \"Missing values (if any) are random and non-systematic\",\n",
    "        \"Market efficiency in price formation\",\n",
    "        \"Temporal consistency in data collection methodology\"\n",
    "    ]\n",
    "    \n",
    "    limitations = [\n",
    "        \"Daily data may miss intraday price movements\",\n",
    "        \"Historical patterns may not predict future behavior\",\n",
    "        \"External factors may not be captured in price data\",\n",
    "        \"Market structural changes may affect analysis validity\",\n",
    "        \"Limited ability to capture market sentiment\"\n",
    "    ]\n",
    "    \n",
    "    display(Markdown(\"## Assumptions and Limitations\"))\n",
    "    display(Markdown(\"### Assumptions\"))\n",
    "    for assumption in assumptions:\n",
    "        display(Markdown(f\"- {assumption}\"))\n",
    "    \n",
    "    display(Markdown(\"\\n### Limitations\"))\n",
    "    for limitation in limitations:\n",
    "        display(Markdown(f\"- {limitation}\"))\n",
    "\n",
    "document_assumptions_limitations()"
   ]
  },
  {
   "cell_type": "code",
   "execution_count": 19,
   "metadata": {},
   "outputs": [
    {
     "data": {
      "text/markdown": [
       "## Communication Channels"
      ],
      "text/plain": [
       "<IPython.core.display.Markdown object>"
      ]
     },
     "metadata": {},
     "output_type": "display_data"
    },
    {
     "data": {
      "text/markdown": [
       "### Executive Dashboard"
      ],
      "text/plain": [
       "<IPython.core.display.Markdown object>"
      ]
     },
     "metadata": {},
     "output_type": "display_data"
    },
    {
     "data": {
      "text/markdown": [
       "- **Format:** Interactive web dashboard"
      ],
      "text/plain": [
       "<IPython.core.display.Markdown object>"
      ]
     },
     "metadata": {},
     "output_type": "display_data"
    },
    {
     "data": {
      "text/markdown": [
       "- **Audience:** Senior management"
      ],
      "text/plain": [
       "<IPython.core.display.Markdown object>"
      ]
     },
     "metadata": {},
     "output_type": "display_data"
    },
    {
     "data": {
      "text/markdown": [
       "- **Key Components:** KPIs, Trend visualization, Executive summary"
      ],
      "text/plain": [
       "<IPython.core.display.Markdown object>"
      ]
     },
     "metadata": {},
     "output_type": "display_data"
    },
    {
     "data": {
      "text/markdown": [
       "- **Update Frequency:** Daily"
      ],
      "text/plain": [
       "<IPython.core.display.Markdown object>"
      ]
     },
     "metadata": {},
     "output_type": "display_data"
    },
    {
     "data": {
      "text/markdown": [
       "### Technical Report"
      ],
      "text/plain": [
       "<IPython.core.display.Markdown object>"
      ]
     },
     "metadata": {},
     "output_type": "display_data"
    },
    {
     "data": {
      "text/markdown": [
       "- **Format:** Jupyter Notebook"
      ],
      "text/plain": [
       "<IPython.core.display.Markdown object>"
      ]
     },
     "metadata": {},
     "output_type": "display_data"
    },
    {
     "data": {
      "text/markdown": [
       "- **Audience:** Analytics team"
      ],
      "text/plain": [
       "<IPython.core.display.Markdown object>"
      ]
     },
     "metadata": {},
     "output_type": "display_data"
    },
    {
     "data": {
      "text/markdown": [
       "- **Key Components:** Detailed analysis, Code documentation, Statistical tests"
      ],
      "text/plain": [
       "<IPython.core.display.Markdown object>"
      ]
     },
     "metadata": {},
     "output_type": "display_data"
    },
    {
     "data": {
      "text/markdown": [
       "- **Update Frequency:** As needed"
      ],
      "text/plain": [
       "<IPython.core.display.Markdown object>"
      ]
     },
     "metadata": {},
     "output_type": "display_data"
    },
    {
     "data": {
      "text/markdown": [
       "### Stakeholder Presentation"
      ],
      "text/plain": [
       "<IPython.core.display.Markdown object>"
      ]
     },
     "metadata": {},
     "output_type": "display_data"
    },
    {
     "data": {
      "text/markdown": [
       "- **Format:** PowerPoint/PDF"
      ],
      "text/plain": [
       "<IPython.core.display.Markdown object>"
      ]
     },
     "metadata": {},
     "output_type": "display_data"
    },
    {
     "data": {
      "text/markdown": [
       "- **Audience:** Stakeholders"
      ],
      "text/plain": [
       "<IPython.core.display.Markdown object>"
      ]
     },
     "metadata": {},
     "output_type": "display_data"
    },
    {
     "data": {
      "text/markdown": [
       "- **Key Components:** Key findings, Recommendations, Visual insights"
      ],
      "text/plain": [
       "<IPython.core.display.Markdown object>"
      ]
     },
     "metadata": {},
     "output_type": "display_data"
    },
    {
     "data": {
      "text/markdown": [
       "- **Update Frequency:** Monthly"
      ],
      "text/plain": [
       "<IPython.core.display.Markdown object>"
      ]
     },
     "metadata": {},
     "output_type": "display_data"
    },
    {
     "data": {
      "text/markdown": [
       "### Real-time Alerts"
      ],
      "text/plain": [
       "<IPython.core.display.Markdown object>"
      ]
     },
     "metadata": {},
     "output_type": "display_data"
    },
    {
     "data": {
      "text/markdown": [
       "- **Format:** Email/SMS"
      ],
      "text/plain": [
       "<IPython.core.display.Markdown object>"
      ]
     },
     "metadata": {},
     "output_type": "display_data"
    },
    {
     "data": {
      "text/markdown": [
       "- **Audience:** Trading team"
      ],
      "text/plain": [
       "<IPython.core.display.Markdown object>"
      ]
     },
     "metadata": {},
     "output_type": "display_data"
    },
    {
     "data": {
      "text/markdown": [
       "- **Key Components:** Price alerts, Trend breaks, Volatility signals"
      ],
      "text/plain": [
       "<IPython.core.display.Markdown object>"
      ]
     },
     "metadata": {},
     "output_type": "display_data"
    },
    {
     "data": {
      "text/markdown": [
       "- **Update Frequency:** Real-time"
      ],
      "text/plain": [
       "<IPython.core.display.Markdown object>"
      ]
     },
     "metadata": {},
     "output_type": "display_data"
    }
   ],
   "source": [
    "# Cell 8: Define communication channels\n",
    "def define_communication_channels():\n",
    "    communication_plan = {\n",
    "        \"Executive Dashboard\": {\n",
    "            \"Format\": \"Interactive web dashboard\",\n",
    "            \"Audience\": \"Senior management\",\n",
    "            \"Key Components\": [\"KPIs\", \"Trend visualization\", \"Executive summary\"],\n",
    "            \"Update Frequency\": \"Daily\"\n",
    "        },\n",
    "        \"Technical Report\": {\n",
    "            \"Format\": \"Jupyter Notebook\",\n",
    "            \"Audience\": \"Analytics team\",\n",
    "            \"Key Components\": [\"Detailed analysis\", \"Code documentation\", \"Statistical tests\"],\n",
    "            \"Update Frequency\": \"As needed\"\n",
    "        },\n",
    "        \"Stakeholder Presentation\": {\n",
    "            \"Format\": \"PowerPoint/PDF\",\n",
    "            \"Audience\": \"Stakeholders\",\n",
    "            \"Key Components\": [\"Key findings\", \"Recommendations\", \"Visual insights\"],\n",
    "            \"Update Frequency\": \"Monthly\"\n",
    "        },\n",
    "        \"Real-time Alerts\": {\n",
    "            \"Format\": \"Email/SMS\",\n",
    "            \"Audience\": \"Trading team\",\n",
    "            \"Key Components\": [\"Price alerts\", \"Trend breaks\", \"Volatility signals\"],\n",
    "            \"Update Frequency\": \"Real-time\"\n",
    "        }\n",
    "    }\n",
    "    \n",
    "    display(Markdown(\"## Communication Channels\"))\n",
    "    for channel, details in communication_plan.items():\n",
    "        display(Markdown(f\"### {channel}\"))\n",
    "        for key, value in details.items():\n",
    "            if isinstance(value, list):\n",
    "                value_str = \", \".join(value)\n",
    "                display(Markdown(f\"- **{key}:** {value_str}\"))\n",
    "            else:\n",
    "                display(Markdown(f\"- **{key}:** {value}\"))\n",
    "\n",
    "define_communication_channels()"
   ]
  },
  {
   "cell_type": "markdown",
   "metadata": {},
   "source": [
    "2) Understanding the Model and Data"
   ]
  },
  {
   "cell_type": "code",
   "execution_count": 21,
   "metadata": {},
   "outputs": [],
   "source": [
    "# Cell 1: Import necessary libraries and handle dependencies\n",
    "import pandas as pd\n",
    "import numpy as np\n",
    "import matplotlib.pyplot as plt\n",
    "import seaborn as sns\n",
    "from statsmodels.tsa.stattools import adfuller, acf, pacf\n",
    "from statsmodels.tsa.arima.model import ARIMA\n",
    "from IPython.display import display, Markdown, HTML"
   ]
  },
  {
   "cell_type": "code",
   "execution_count": 22,
   "metadata": {},
   "outputs": [],
   "source": [
    "# Cell 2: Load and prepare the data\n",
    "df = pd.read_csv(\"E:/KAIM 2/KAIM 2 Week 10/Week10/data/BrentOilPrices.csv\")\n",
    "df['Date'] = pd.to_datetime(df['Date'], format='mixed', dayfirst=True)\n",
    "df.set_index('Date', inplace=True)\n",
    "df.sort_index(inplace=True)\n",
    "\n",
    "# Calculate returns\n",
    "df['Returns'] = df['Price'].pct_change()\n",
    "# Calculate rolling volatility as alternative to GARCH\n",
    "df['Rolling_Volatility'] = df['Returns'].rolling(window=21).std() * np.sqrt(252)  # 21 trading days ≈ 1 month"
   ]
  },
  {
   "cell_type": "code",
   "execution_count": 23,
   "metadata": {},
   "outputs": [
    {
     "name": "stderr",
     "output_type": "stream",
     "text": [
      "c:\\Users\\you\\AppData\\Local\\Programs\\Python\\Python312\\Lib\\site-packages\\statsmodels\\tsa\\base\\tsa_model.py:473: ValueWarning: A date index has been provided, but it has no associated frequency information and so will be ignored when e.g. forecasting.\n",
      "  self._init_dates(dates, freq)\n",
      "c:\\Users\\you\\AppData\\Local\\Programs\\Python\\Python312\\Lib\\site-packages\\statsmodels\\tsa\\base\\tsa_model.py:473: ValueWarning: A date index has been provided, but it has no associated frequency information and so will be ignored when e.g. forecasting.\n",
      "  self._init_dates(dates, freq)\n",
      "c:\\Users\\you\\AppData\\Local\\Programs\\Python\\Python312\\Lib\\site-packages\\statsmodels\\tsa\\base\\tsa_model.py:473: ValueWarning: A date index has been provided, but it has no associated frequency information and so will be ignored when e.g. forecasting.\n",
      "  self._init_dates(dates, freq)\n"
     ]
    },
    {
     "data": {
      "text/markdown": [
       "## Model Application Examples"
      ],
      "text/plain": [
       "<IPython.core.display.Markdown object>"
      ]
     },
     "metadata": {},
     "output_type": "display_data"
    },
    {
     "data": {
      "text/markdown": [
       "### ARIMA Model Results"
      ],
      "text/plain": [
       "<IPython.core.display.Markdown object>"
      ]
     },
     "metadata": {},
     "output_type": "display_data"
    },
    {
     "data": {
      "text/markdown": [
       "#### Model Summary"
      ],
      "text/plain": [
       "<IPython.core.display.Markdown object>"
      ]
     },
     "metadata": {},
     "output_type": "display_data"
    },
    {
     "data": {
      "text/html": [
       "<table class=\"simpletable\">\n",
       "<caption>SARIMAX Results</caption>\n",
       "<tr>\n",
       "  <th>Dep. Variable:</th>         <td>Price</td>      <th>  No. Observations:  </th>    <td>7208</td>   \n",
       "</tr>\n",
       "<tr>\n",
       "  <th>Model:</th>            <td>ARIMA(1, 1, 1)</td>  <th>  Log Likelihood     </th> <td>-10647.934</td>\n",
       "</tr>\n",
       "<tr>\n",
       "  <th>Date:</th>            <td>Wed, 13 Nov 2024</td> <th>  AIC                </th>  <td>21301.869</td>\n",
       "</tr>\n",
       "<tr>\n",
       "  <th>Time:</th>                <td>08:30:05</td>     <th>  BIC                </th>  <td>21322.517</td>\n",
       "</tr>\n",
       "<tr>\n",
       "  <th>Sample:</th>                  <td>0</td>        <th>  HQIC               </th>  <td>21308.974</td>\n",
       "</tr>\n",
       "<tr>\n",
       "  <th></th>                      <td> - 7208</td>     <th>                     </th>      <td> </td>    \n",
       "</tr>\n",
       "<tr>\n",
       "  <th>Covariance Type:</th>        <td>opg</td>       <th>                     </th>      <td> </td>    \n",
       "</tr>\n",
       "</table>\n",
       "<table class=\"simpletable\">\n",
       "<tr>\n",
       "     <td></td>       <th>coef</th>     <th>std err</th>      <th>z</th>      <th>P>|z|</th>  <th>[0.025</th>    <th>0.975]</th>  \n",
       "</tr>\n",
       "<tr>\n",
       "  <th>ar.L1</th>  <td>   -0.1140</td> <td>    0.181</td> <td>   -0.629</td> <td> 0.530</td> <td>   -0.469</td> <td>    0.241</td>\n",
       "</tr>\n",
       "<tr>\n",
       "  <th>ma.L1</th>  <td>    0.1515</td> <td>    0.180</td> <td>    0.841</td> <td> 0.401</td> <td>   -0.202</td> <td>    0.505</td>\n",
       "</tr>\n",
       "<tr>\n",
       "  <th>sigma2</th> <td>    1.1241</td> <td>    0.008</td> <td>  144.439</td> <td> 0.000</td> <td>    1.109</td> <td>    1.139</td>\n",
       "</tr>\n",
       "</table>\n",
       "<table class=\"simpletable\">\n",
       "<tr>\n",
       "  <th>Ljung-Box (L1) (Q):</th>     <td>0.00</td>  <th>  Jarque-Bera (JB):  </th> <td>28139.73</td>\n",
       "</tr>\n",
       "<tr>\n",
       "  <th>Prob(Q):</th>                <td>0.99</td>  <th>  Prob(JB):          </th>   <td>0.00</td>  \n",
       "</tr>\n",
       "<tr>\n",
       "  <th>Heteroskedasticity (H):</th> <td>10.15</td> <th>  Skew:              </th>   <td>-0.26</td> \n",
       "</tr>\n",
       "<tr>\n",
       "  <th>Prob(H) (two-sided):</th>    <td>0.00</td>  <th>  Kurtosis:          </th>   <td>12.67</td> \n",
       "</tr>\n",
       "</table><br/><br/>Warnings:<br/>[1] Covariance matrix calculated using the outer product of gradients (complex-step)."
      ],
      "text/latex": [
       "\\begin{center}\n",
       "\\begin{tabular}{lclc}\n",
       "\\toprule\n",
       "\\textbf{Dep. Variable:}          &      Price       & \\textbf{  No. Observations:  } &    7208     \\\\\n",
       "\\textbf{Model:}                  &  ARIMA(1, 1, 1)  & \\textbf{  Log Likelihood     } & -10647.934  \\\\\n",
       "\\textbf{Date:}                   & Wed, 13 Nov 2024 & \\textbf{  AIC                } & 21301.869   \\\\\n",
       "\\textbf{Time:}                   &     08:30:05     & \\textbf{  BIC                } & 21322.517   \\\\\n",
       "\\textbf{Sample:}                 &        0         & \\textbf{  HQIC               } & 21308.974   \\\\\n",
       "\\textbf{}                        &      - 7208      & \\textbf{                     } &             \\\\\n",
       "\\textbf{Covariance Type:}        &       opg        & \\textbf{                     } &             \\\\\n",
       "\\bottomrule\n",
       "\\end{tabular}\n",
       "\\begin{tabular}{lcccccc}\n",
       "                & \\textbf{coef} & \\textbf{std err} & \\textbf{z} & \\textbf{P$> |$z$|$} & \\textbf{[0.025} & \\textbf{0.975]}  \\\\\n",
       "\\midrule\n",
       "\\textbf{ar.L1}  &      -0.1140  &        0.181     &    -0.629  &         0.530        &       -0.469    &        0.241     \\\\\n",
       "\\textbf{ma.L1}  &       0.1515  &        0.180     &     0.841  &         0.401        &       -0.202    &        0.505     \\\\\n",
       "\\textbf{sigma2} &       1.1241  &        0.008     &   144.439  &         0.000        &        1.109    &        1.139     \\\\\n",
       "\\bottomrule\n",
       "\\end{tabular}\n",
       "\\begin{tabular}{lclc}\n",
       "\\textbf{Ljung-Box (L1) (Q):}     &  0.00 & \\textbf{  Jarque-Bera (JB):  } & 28139.73  \\\\\n",
       "\\textbf{Prob(Q):}                &  0.99 & \\textbf{  Prob(JB):          } &   0.00    \\\\\n",
       "\\textbf{Heteroskedasticity (H):} & 10.15 & \\textbf{  Skew:              } &  -0.26    \\\\\n",
       "\\textbf{Prob(H) (two-sided):}    &  0.00 & \\textbf{  Kurtosis:          } &  12.67    \\\\\n",
       "\\bottomrule\n",
       "\\end{tabular}\n",
       "%\\caption{SARIMAX Results}\n",
       "\\end{center}\n",
       "\n",
       "Warnings: \\newline\n",
       " [1] Covariance matrix calculated using the outer product of gradients (complex-step)."
      ],
      "text/plain": [
       "<class 'statsmodels.iolib.summary.Summary'>\n",
       "\"\"\"\n",
       "                               SARIMAX Results                                \n",
       "==============================================================================\n",
       "Dep. Variable:                  Price   No. Observations:                 7208\n",
       "Model:                 ARIMA(1, 1, 1)   Log Likelihood              -10647.934\n",
       "Date:                Wed, 13 Nov 2024   AIC                          21301.869\n",
       "Time:                        08:30:05   BIC                          21322.517\n",
       "Sample:                             0   HQIC                         21308.974\n",
       "                               - 7208                                         \n",
       "Covariance Type:                  opg                                         \n",
       "==============================================================================\n",
       "                 coef    std err          z      P>|z|      [0.025      0.975]\n",
       "------------------------------------------------------------------------------\n",
       "ar.L1         -0.1140      0.181     -0.629      0.530      -0.469       0.241\n",
       "ma.L1          0.1515      0.180      0.841      0.401      -0.202       0.505\n",
       "sigma2         1.1241      0.008    144.439      0.000       1.109       1.139\n",
       "===================================================================================\n",
       "Ljung-Box (L1) (Q):                   0.00   Jarque-Bera (JB):             28139.73\n",
       "Prob(Q):                              0.99   Prob(JB):                         0.00\n",
       "Heteroskedasticity (H):              10.15   Skew:                            -0.26\n",
       "Prob(H) (two-sided):                  0.00   Kurtosis:                        12.67\n",
       "===================================================================================\n",
       "\n",
       "Warnings:\n",
       "[1] Covariance matrix calculated using the outer product of gradients (complex-step).\n",
       "\"\"\""
      ]
     },
     "metadata": {},
     "output_type": "display_data"
    },
    {
     "data": {
      "text/markdown": [
       "### Volatility Analysis"
      ],
      "text/plain": [
       "<IPython.core.display.Markdown object>"
      ]
     },
     "metadata": {},
     "output_type": "display_data"
    },
    {
     "data": {
      "image/png": "[encoded data removed]",
      "text/plain": [
       "<Figure size 1200x600 with 1 Axes>"
      ]
     },
     "metadata": {},
     "output_type": "display_data"
    },
    {
     "data": {
      "text/markdown": [
       "#### Volatility Statistics"
      ],
      "text/plain": [
       "<IPython.core.display.Markdown object>"
      ]
     },
     "metadata": {},
     "output_type": "display_data"
    },
    {
     "data": {
      "text/markdown": [
       "- Mean Volatility: 0.3377"
      ],
      "text/plain": [
       "<IPython.core.display.Markdown object>"
      ]
     },
     "metadata": {},
     "output_type": "display_data"
    },
    {
     "data": {
      "text/markdown": [
       "- Max Volatility: 3.2779"
      ],
      "text/plain": [
       "<IPython.core.display.Markdown object>"
      ]
     },
     "metadata": {},
     "output_type": "display_data"
    },
    {
     "data": {
      "text/markdown": [
       "- Min Volatility: 0.0563"
      ],
      "text/plain": [
       "<IPython.core.display.Markdown object>"
      ]
     },
     "metadata": {},
     "output_type": "display_data"
    },
    {
     "data": {
      "text/markdown": [
       "- Volatility of Volatility: 0.2159"
      ],
      "text/plain": [
       "<IPython.core.display.Markdown object>"
      ]
     },
     "metadata": {},
     "output_type": "display_data"
    },
    {
     "name": "stderr",
     "output_type": "stream",
     "text": [
      "c:\\Users\\you\\AppData\\Local\\Programs\\Python\\Python312\\Lib\\site-packages\\statsmodels\\tsa\\base\\tsa_model.py:836: ValueWarning: No supported index is available. Prediction results will be given with an integer index beginning at `start`.\n",
      "  return get_prediction_index(\n",
      "c:\\Users\\you\\AppData\\Local\\Programs\\Python\\Python312\\Lib\\site-packages\\statsmodels\\tsa\\base\\tsa_model.py:836: FutureWarning: No supported index is available. In the next version, calling this method in a model without a supported index will result in an exception.\n",
      "  return get_prediction_index(\n"
     ]
    },
    {
     "data": {
      "image/png": "[encoded data removed]",
      "text/plain": [
       "<Figure size 1200x600 with 1 Axes>"
      ]
     },
     "metadata": {},
     "output_type": "display_data"
    },
    {
     "data": {
      "image/png": "[encoded data removed]",
      "text/plain": [
       "<Figure size 1200x800 with 2 Axes>"
      ]
     },
     "metadata": {},
     "output_type": "display_data"
    }
   ],
   "source": [
    "# Modified Cell 5: Demonstrate model application with alternative volatility analysis\n",
    "def demonstrate_models():\n",
    "    # Prepare training data\n",
    "    train_size = int(len(df) * 0.8)\n",
    "    train_data = df['Price'][:train_size]\n",
    "    test_data = df['Price'][train_size:]\n",
    "    \n",
    "    # Fit ARIMA model\n",
    "    arima_model = ARIMA(train_data, order=(1,1,1))\n",
    "    arima_results = arima_model.fit()\n",
    "    \n",
    "    # Display results\n",
    "    display(Markdown(\"## Model Application Examples\"))\n",
    "    \n",
    "    # ARIMA Results\n",
    "    display(Markdown(\"### ARIMA Model Results\"))\n",
    "    display(Markdown(\"#### Model Summary\"))\n",
    "    display(arima_results.summary())\n",
    "    \n",
    "    # Alternative Volatility Analysis\n",
    "    display(Markdown(\"### Volatility Analysis\"))\n",
    "    \n",
    "    # Plot rolling volatility\n",
    "    plt.figure(figsize=(12, 6))\n",
    "    plt.plot(df.index, df['Rolling_Volatility'])\n",
    "    plt.title('21-Day Rolling Volatility (Annualized)')\n",
    "    plt.xlabel('Date')\n",
    "    plt.ylabel('Volatility')\n",
    "    plt.show()\n",
    "    \n",
    "    # Calculate volatility statistics\n",
    "    vol_stats = {\n",
    "        'Mean Volatility': df['Rolling_Volatility'].mean(),\n",
    "        'Max Volatility': df['Rolling_Volatility'].max(),\n",
    "        'Min Volatility': df['Rolling_Volatility'].min(),\n",
    "        'Volatility of Volatility': df['Rolling_Volatility'].std()\n",
    "    }\n",
    "    \n",
    "    display(Markdown(\"#### Volatility Statistics\"))\n",
    "    for stat, value in vol_stats.items():\n",
    "        display(Markdown(f\"- {stat}: {value:.4f}\"))\n",
    "    \n",
    "    # Plotting predictions\n",
    "    plt.figure(figsize=(12, 6))\n",
    "    plt.plot(test_data.index, test_data, label='Actual')\n",
    "    plt.plot(test_data.index, arima_results.forecast(len(test_data)), label='ARIMA Forecast')\n",
    "    plt.title('ARIMA Model Forecast vs Actual Prices')\n",
    "    plt.legend()\n",
    "    plt.show()\n",
    "    \n",
    "    # Additional volatility analysis\n",
    "    plt.figure(figsize=(12, 8))\n",
    "    \n",
    "    # Plot 1: Returns distribution\n",
    "    plt.subplot(2, 1, 1)\n",
    "    df['Returns'].hist(bins=50, density=True)\n",
    "    plt.title('Returns Distribution')\n",
    "    \n",
    "    # Plot 2: Returns vs Volatility\n",
    "    plt.subplot(2, 1, 2)\n",
    "    plt.scatter(df['Returns'], df['Rolling_Volatility'], alpha=0.5)\n",
    "    plt.xlabel('Returns')\n",
    "    plt.ylabel('Rolling Volatility')\n",
    "    plt.title('Returns vs Volatility')\n",
    "    \n",
    "    plt.tight_layout()\n",
    "    plt.show()\n",
    "\n",
    "demonstrate_models()"
   ]
  },
  {
   "cell_type": "code",
   "execution_count": 24,
   "metadata": {},
   "outputs": [
    {
     "data": {
      "image/png": "[encoded data removed]",
      "text/plain": [
       "<Figure size 1200x600 with 1 Axes>"
      ]
     },
     "metadata": {},
     "output_type": "display_data"
    },
    {
     "data": {
      "text/markdown": [
       "### ARCH Effects Test Results"
      ],
      "text/plain": [
       "<IPython.core.display.Markdown object>"
      ]
     },
     "metadata": {},
     "output_type": "display_data"
    },
    {
     "data": {
      "text/markdown": [
       "\n",
       "    * LM Statistic: 2634.9343\n",
       "    * P-value: 0.0000\n",
       "    * F-statistic: 372.1160\n",
       "    * F-test P-value: 0.0000\n",
       "    "
      ],
      "text/plain": [
       "<IPython.core.display.Markdown object>"
      ]
     },
     "metadata": {},
     "output_type": "display_data"
    }
   ],
   "source": [
    "# Additional Cell: Volatility Clustering Analysis\n",
    "def analyze_volatility_clustering():\n",
    "    # Calculate absolute returns\n",
    "    abs_returns = np.abs(df['Returns'])\n",
    "    \n",
    "    # Calculate autocorrelation of absolute returns\n",
    "    lags = 20\n",
    "    acf_abs_returns = acf(abs_returns.dropna(), nlags=lags)\n",
    "    \n",
    "    # Plot autocorrelation\n",
    "    plt.figure(figsize=(12, 6))\n",
    "    plt.bar(range(lags + 1), acf_abs_returns)\n",
    "    plt.title('Autocorrelation of Absolute Returns')\n",
    "    plt.xlabel('Lag')\n",
    "    plt.ylabel('Autocorrelation')\n",
    "    plt.axhline(y=0, linestyle='--', color='gray')\n",
    "    plt.axhline(y=1.96/np.sqrt(len(abs_returns)), linestyle='--', color='red')\n",
    "    plt.axhline(y=-1.96/np.sqrt(len(abs_returns)), linestyle='--', color='red')\n",
    "    plt.show()\n",
    "    \n",
    "    # Test for ARCH effects\n",
    "    from statsmodels.stats.diagnostic import het_arch\n",
    "    \n",
    "    lm_stat, p_value, f_stat, fp_value = het_arch(df['Returns'].dropna())\n",
    "    \n",
    "    display(Markdown(\"### ARCH Effects Test Results\"))\n",
    "    display(Markdown(f\"\"\"\n",
    "    * LM Statistic: {lm_stat:.4f}\n",
    "    * P-value: {p_value:.4f}\n",
    "    * F-statistic: {f_stat:.4f}\n",
    "    * F-test P-value: {fp_value:.4f}\n",
    "    \"\"\"))\n",
    "\n",
    "analyze_volatility_clustering()"
   ]
  },
  {
   "cell_type": "code",
   "execution_count": 25,
   "metadata": {},
   "outputs": [
    {
     "data": {
      "text/markdown": [
       "## Time Series Models Overview"
      ],
      "text/plain": [
       "<IPython.core.display.Markdown object>"
      ]
     },
     "metadata": {},
     "output_type": "display_data"
    },
    {
     "data": {
      "text/markdown": [
       "### ARIMA (Autoregressive Integrated Moving Average)"
      ],
      "text/plain": [
       "<IPython.core.display.Markdown object>"
      ]
     },
     "metadata": {},
     "output_type": "display_data"
    },
    {
     "data": {
      "text/markdown": [
       "#### Purpose"
      ],
      "text/plain": [
       "<IPython.core.display.Markdown object>"
      ]
     },
     "metadata": {},
     "output_type": "display_data"
    },
    {
     "data": {
      "text/markdown": [
       "- Model linear relationships in time series data"
      ],
      "text/plain": [
       "<IPython.core.display.Markdown object>"
      ]
     },
     "metadata": {},
     "output_type": "display_data"
    },
    {
     "data": {
      "text/markdown": [
       "#### Components"
      ],
      "text/plain": [
       "<IPython.core.display.Markdown object>"
      ]
     },
     "metadata": {},
     "output_type": "display_data"
    },
    {
     "data": {
      "text/markdown": [
       "- AR: Autoregressive component captures dependency on past values"
      ],
      "text/plain": [
       "<IPython.core.display.Markdown object>"
      ]
     },
     "metadata": {},
     "output_type": "display_data"
    },
    {
     "data": {
      "text/markdown": [
       "- I: Integration component handles non-stationarity"
      ],
      "text/plain": [
       "<IPython.core.display.Markdown object>"
      ]
     },
     "metadata": {},
     "output_type": "display_data"
    },
    {
     "data": {
      "text/markdown": [
       "- MA: Moving Average component captures error terms dependency"
      ],
      "text/plain": [
       "<IPython.core.display.Markdown object>"
      ]
     },
     "metadata": {},
     "output_type": "display_data"
    },
    {
     "data": {
      "text/markdown": [
       "#### Suitable for"
      ],
      "text/plain": [
       "<IPython.core.display.Markdown object>"
      ]
     },
     "metadata": {},
     "output_type": "display_data"
    },
    {
     "data": {
      "text/markdown": [
       "- Price level forecasting"
      ],
      "text/plain": [
       "<IPython.core.display.Markdown object>"
      ]
     },
     "metadata": {},
     "output_type": "display_data"
    },
    {
     "data": {
      "text/markdown": [
       "- Trend analysis"
      ],
      "text/plain": [
       "<IPython.core.display.Markdown object>"
      ]
     },
     "metadata": {},
     "output_type": "display_data"
    },
    {
     "data": {
      "text/markdown": [
       "- Short-term predictions"
      ],
      "text/plain": [
       "<IPython.core.display.Markdown object>"
      ]
     },
     "metadata": {},
     "output_type": "display_data"
    },
    {
     "data": {
      "text/markdown": [
       "#### Limitations"
      ],
      "text/plain": [
       "<IPython.core.display.Markdown object>"
      ]
     },
     "metadata": {},
     "output_type": "display_data"
    },
    {
     "data": {
      "text/markdown": [
       "- Assumes linear relationships"
      ],
      "text/plain": [
       "<IPython.core.display.Markdown object>"
      ]
     },
     "metadata": {},
     "output_type": "display_data"
    },
    {
     "data": {
      "text/markdown": [
       "- Cannot capture volatility clustering"
      ],
      "text/plain": [
       "<IPython.core.display.Markdown object>"
      ]
     },
     "metadata": {},
     "output_type": "display_data"
    },
    {
     "data": {
      "text/markdown": [
       "- Assumes constant variance"
      ],
      "text/plain": [
       "<IPython.core.display.Markdown object>"
      ]
     },
     "metadata": {},
     "output_type": "display_data"
    },
    {
     "data": {
      "text/markdown": [
       "### GARCH (Generalized Autoregressive Conditional Heteroskedasticity)"
      ],
      "text/plain": [
       "<IPython.core.display.Markdown object>"
      ]
     },
     "metadata": {},
     "output_type": "display_data"
    },
    {
     "data": {
      "text/markdown": [
       "#### Purpose"
      ],
      "text/plain": [
       "<IPython.core.display.Markdown object>"
      ]
     },
     "metadata": {},
     "output_type": "display_data"
    },
    {
     "data": {
      "text/markdown": [
       "- Model volatility clustering and time-varying variance"
      ],
      "text/plain": [
       "<IPython.core.display.Markdown object>"
      ]
     },
     "metadata": {},
     "output_type": "display_data"
    },
    {
     "data": {
      "text/markdown": [
       "#### Components"
      ],
      "text/plain": [
       "<IPython.core.display.Markdown object>"
      ]
     },
     "metadata": {},
     "output_type": "display_data"
    },
    {
     "data": {
      "text/markdown": [
       "- Conditional variance equation"
      ],
      "text/plain": [
       "<IPython.core.display.Markdown object>"
      ]
     },
     "metadata": {},
     "output_type": "display_data"
    },
    {
     "data": {
      "text/markdown": [
       "- Innovation terms"
      ],
      "text/plain": [
       "<IPython.core.display.Markdown object>"
      ]
     },
     "metadata": {},
     "output_type": "display_data"
    },
    {
     "data": {
      "text/markdown": [
       "- Persistence parameters"
      ],
      "text/plain": [
       "<IPython.core.display.Markdown object>"
      ]
     },
     "metadata": {},
     "output_type": "display_data"
    },
    {
     "data": {
      "text/markdown": [
       "#### Suitable for"
      ],
      "text/plain": [
       "<IPython.core.display.Markdown object>"
      ]
     },
     "metadata": {},
     "output_type": "display_data"
    },
    {
     "data": {
      "text/markdown": [
       "- Volatility forecasting"
      ],
      "text/plain": [
       "<IPython.core.display.Markdown object>"
      ]
     },
     "metadata": {},
     "output_type": "display_data"
    },
    {
     "data": {
      "text/markdown": [
       "- Risk assessment"
      ],
      "text/plain": [
       "<IPython.core.display.Markdown object>"
      ]
     },
     "metadata": {},
     "output_type": "display_data"
    },
    {
     "data": {
      "text/markdown": [
       "- Understanding market uncertainty"
      ],
      "text/plain": [
       "<IPython.core.display.Markdown object>"
      ]
     },
     "metadata": {},
     "output_type": "display_data"
    },
    {
     "data": {
      "text/markdown": [
       "#### Limitations"
      ],
      "text/plain": [
       "<IPython.core.display.Markdown object>"
      ]
     },
     "metadata": {},
     "output_type": "display_data"
    },
    {
     "data": {
      "text/markdown": [
       "- Focuses on variance, not price levels"
      ],
      "text/plain": [
       "<IPython.core.display.Markdown object>"
      ]
     },
     "metadata": {},
     "output_type": "display_data"
    },
    {
     "data": {
      "text/markdown": [
       "- Complex parameter estimation"
      ],
      "text/plain": [
       "<IPython.core.display.Markdown object>"
      ]
     },
     "metadata": {},
     "output_type": "display_data"
    },
    {
     "data": {
      "text/markdown": [
       "- Sensitive to initial conditions"
      ],
      "text/plain": [
       "<IPython.core.display.Markdown object>"
      ]
     },
     "metadata": {},
     "output_type": "display_data"
    }
   ],
   "source": [
    "# Cell 4: Document suitable models\n",
    "def document_models():\n",
    "    models_info = {\n",
    "        \"ARIMA (Autoregressive Integrated Moving Average)\": {\n",
    "            \"Purpose\": \"Model linear relationships in time series data\",\n",
    "            \"Components\": [\n",
    "                \"AR: Autoregressive component captures dependency on past values\",\n",
    "                \"I: Integration component handles non-stationarity\",\n",
    "                \"MA: Moving Average component captures error terms dependency\"\n",
    "            ],\n",
    "            \"Suitable for\": [\n",
    "                \"Price level forecasting\",\n",
    "                \"Trend analysis\",\n",
    "                \"Short-term predictions\"\n",
    "            ],\n",
    "            \"Limitations\": [\n",
    "                \"Assumes linear relationships\",\n",
    "                \"Cannot capture volatility clustering\",\n",
    "                \"Assumes constant variance\"\n",
    "            ]\n",
    "        },\n",
    "        \"GARCH (Generalized Autoregressive Conditional Heteroskedasticity)\": {\n",
    "            \"Purpose\": \"Model volatility clustering and time-varying variance\",\n",
    "            \"Components\": [\n",
    "                \"Conditional variance equation\",\n",
    "                \"Innovation terms\",\n",
    "                \"Persistence parameters\"\n",
    "            ],\n",
    "            \"Suitable for\": [\n",
    "                \"Volatility forecasting\",\n",
    "                \"Risk assessment\",\n",
    "                \"Understanding market uncertainty\"\n",
    "            ],\n",
    "            \"Limitations\": [\n",
    "                \"Focuses on variance, not price levels\",\n",
    "                \"Complex parameter estimation\",\n",
    "                \"Sensitive to initial conditions\"\n",
    "            ]\n",
    "        }\n",
    "    }\n",
    "    \n",
    "    display(Markdown(\"## Time Series Models Overview\"))\n",
    "    for model, details in models_info.items():\n",
    "        display(Markdown(f\"### {model}\"))\n",
    "        for category, items in details.items():\n",
    "            display(Markdown(f\"#### {category}\"))\n",
    "            if isinstance(items, list):\n",
    "                for item in items:\n",
    "                    display(Markdown(f\"- {item}\"))\n",
    "            else:\n",
    "                display(Markdown(f\"- {items}\"))\n",
    "\n",
    "document_models()"
   ]
  },
  {
   "cell_type": "code",
   "execution_count": null,
   "metadata": {},
   "outputs": [
    {
     "data": {
      "text/markdown": [
       "## Prediction Framework"
      ],
      "text/plain": [
       "<IPython.core.display.Markdown object>"
      ]
     },
     "metadata": {},
     "output_type": "display_data"
    },
    {
     "data": {
      "text/markdown": [
       "### Input Features"
      ],
      "text/plain": [
       "<IPython.core.display.Markdown object>"
      ]
     },
     "metadata": {},
     "output_type": "display_data"
    },
    {
     "data": {
      "text/markdown": [
       "- Historical prices"
      ],
      "text/plain": [
       "<IPython.core.display.Markdown object>"
      ]
     },
     "metadata": {},
     "output_type": "display_data"
    },
    {
     "data": {
      "text/markdown": [
       "- Price returns"
      ],
      "text/plain": [
       "<IPython.core.display.Markdown object>"
      ]
     },
     "metadata": {},
     "output_type": "display_data"
    },
    {
     "data": {
      "text/markdown": [
       "- Volatility measures"
      ],
      "text/plain": [
       "<IPython.core.display.Markdown object>"
      ]
     },
     "metadata": {},
     "output_type": "display_data"
    },
    {
     "data": {
      "text/markdown": [
       "- Seasonal factors"
      ],
      "text/plain": [
       "<IPython.core.display.Markdown object>"
      ]
     },
     "metadata": {},
     "output_type": "display_data"
    },
    {
     "data": {
      "text/markdown": [
       "### Model Selection Criteria"
      ],
      "text/plain": [
       "<IPython.core.display.Markdown object>"
      ]
     },
     "metadata": {},
     "output_type": "display_data"
    },
    {
     "data": {
      "text/markdown": [
       "- AIC/BIC metrics"
      ],
      "text/plain": [
       "<IPython.core.display.Markdown object>"
      ]
     },
     "metadata": {},
     "output_type": "display_data"
    },
    {
     "data": {
      "text/markdown": [
       "- Forecast accuracy"
      ],
      "text/plain": [
       "<IPython.core.display.Markdown object>"
      ]
     },
     "metadata": {},
     "output_type": "display_data"
    },
    {
     "data": {
      "text/markdown": [
       "- Model complexity"
      ],
      "text/plain": [
       "<IPython.core.display.Markdown object>"
      ]
     },
     "metadata": {},
     "output_type": "display_data"
    },
    {
     "data": {
      "text/markdown": [
       "- Computational efficiency"
      ],
      "text/plain": [
       "<IPython.core.display.Markdown object>"
      ]
     },
     "metadata": {},
     "output_type": "display_data"
    },
    {
     "data": {
      "text/markdown": [
       "### Validation Methods"
      ],
      "text/plain": [
       "<IPython.core.display.Markdown object>"
      ]
     },
     "metadata": {},
     "output_type": "display_data"
    },
    {
     "data": {
      "text/markdown": [
       "- Out-of-sample testing"
      ],
      "text/plain": [
       "<IPython.core.display.Markdown object>"
      ]
     },
     "metadata": {},
     "output_type": "display_data"
    },
    {
     "data": {
      "text/markdown": [
       "- Cross-validation"
      ],
      "text/plain": [
       "<IPython.core.display.Markdown object>"
      ]
     },
     "metadata": {},
     "output_type": "display_data"
    },
    {
     "data": {
      "text/markdown": [
       "- Backtesting"
      ],
      "text/plain": [
       "<IPython.core.display.Markdown object>"
      ]
     },
     "metadata": {},
     "output_type": "display_data"
    },
    {
     "data": {
      "text/markdown": [
       "- Reality checks"
      ],
      "text/plain": [
       "<IPython.core.display.Markdown object>"
      ]
     },
     "metadata": {},
     "output_type": "display_data"
    },
    {
     "data": {
      "text/markdown": [
       "### Output Metrics"
      ],
      "text/plain": [
       "<IPython.core.display.Markdown object>"
      ]
     },
     "metadata": {},
     "output_type": "display_data"
    },
    {
     "data": {
      "text/markdown": [
       "- Point forecasts"
      ],
      "text/plain": [
       "<IPython.core.display.Markdown object>"
      ]
     },
     "metadata": {},
     "output_type": "display_data"
    },
    {
     "data": {
      "text/markdown": [
       "- Confidence intervals"
      ],
      "text/plain": [
       "<IPython.core.display.Markdown object>"
      ]
     },
     "metadata": {},
     "output_type": "display_data"
    },
    {
     "data": {
      "text/markdown": [
       "- Volatility estimates"
      ],
      "text/plain": [
       "<IPython.core.display.Markdown object>"
      ]
     },
     "metadata": {},
     "output_type": "display_data"
    },
    {
     "data": {
      "text/markdown": [
       "- Risk measures"
      ],
      "text/plain": [
       "<IPython.core.display.Markdown object>"
      ]
     },
     "metadata": {},
     "output_type": "display_data"
    },
    {
     "ename": "",
     "evalue": "",
     "output_type": "error",
     "traceback": [
      "\u001b[1;31mThe Kernel crashed while executing code in the current cell or a previous cell. \n",
      "\u001b[1;31mPlease review the code in the cell(s) to identify a possible cause of the failure. \n",
      "\u001b[1;31mClick <a href='https://aka.ms/vscodeJupyterKernelCrash'>here</a> for more info. \n",
      "\u001b[1;31mView Jupyter <a href='command:jupyter.viewOutput'>log</a> for further details."
     ]
    }
   ],
   "source": [
    "# Cell 7: Create prediction framework\n",
    "def document_prediction_framework():\n",
    "    prediction_framework = {\n",
    "        \"Input Features\": [\n",
    "            \"Historical prices\",\n",
    "            \"Price returns\",\n",
    "            \"Volatility measures\",\n",
    "            \"Seasonal factors\"\n",
    "        ],\n",
    "        \"Model Selection Criteria\": [\n",
    "            \"AIC/BIC metrics\",\n",
    "            \"Forecast accuracy\",\n",
    "            \"Model complexity\",\n",
    "            \"Computational efficiency\"\n",
    "        ],\n",
    "        \"Validation Methods\": [\n",
    "            \"Out-of-sample testing\",\n",
    "            \"Cross-validation\",\n",
    "            \"Backtesting\",\n",
    "            \"Reality checks\"\n",
    "        ],\n",
    "        \"Output Metrics\": [\n",
    "            \"Point forecasts\",\n",
    "            \"Confidence intervals\",\n",
    "            \"Volatility estimates\",\n",
    "            \"Risk measures\"\n",
    "        ]\n",
    "    }\n",
    "    \n",
    "    display(Markdown(\"## Prediction Framework\"))\n",
    "    for category, items in prediction_framework.items():\n",
    "        display(Markdown(f\"### {category}\"))\n",
    "        for item in items:\n",
    "            display(Markdown(f\"- {item}\"))\n",
    "\n",
    "document_prediction_framework()"
   ]
  }
 ],
 "metadata": {
  "kernelspec": {
   "display_name": "Python 3",
   "language": "python",
   "name": "python3"
  },
  "language_info": {
   "codemirror_mode": {
    "name": "ipython",
    "version": 3
   },
   "file_extension": ".py",
   "mimetype": "text/x-python",
   "name": "python",
   "nbconvert_exporter": "python",
   "pygments_lexer": "ipython3",
   "version": "3.12.6"
  }
 },
 "nbformat": 4,
 "nbformat_minor": 2
}
